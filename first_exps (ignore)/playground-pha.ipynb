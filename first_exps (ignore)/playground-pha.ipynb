{
 "cells": [
  {
   "cell_type": "code",
   "execution_count": 2,
   "metadata": {},
   "outputs": [
    {
     "name": "stderr",
     "output_type": "stream",
     "text": [
      "/home/athyrson.ribeiro/miniconda3/envs/mpi_env/lib/python3.10/site-packages/tqdm/auto.py:21: TqdmWarning: IProgress not found. Please update jupyter and ipywidgets. See https://ipywidgets.readthedocs.io/en/stable/user_install.html\n",
      "  from .autonotebook import tqdm as notebook_tqdm\n"
     ]
    }
   ],
   "source": [
    "import pandas as pd\n",
    "import numpy as np\n",
    "import matplotlib.pyplot as plt\n",
    "import seaborn as sns\n",
    "from sklearn.preprocessing import StandardScaler\n",
    "from sklearn.model_selection import train_test_split\n",
    "from lightgbm import LGBMClassifier\n",
    "import credit_pipeline.training as tr\n",
    "import credit_pipeline.evaluate as ev"
   ]
  },
  {
   "cell_type": "code",
   "execution_count": 3,
   "metadata": {},
   "outputs": [],
   "source": [
    "from mpi4py import MPI\n",
    "import socket"
   ]
  },
  {
   "cell_type": "code",
   "execution_count": 4,
   "metadata": {},
   "outputs": [],
   "source": [
    "df = pd.read_csv('data/pha-asteroids.csv', index_col=0)"
   ]
  },
  {
   "cell_type": "code",
   "execution_count": 5,
   "metadata": {},
   "outputs": [],
   "source": [
    "classCol = df['class']\n",
    "X = df.drop(['pha', 'class', 'neo'], axis=1)\n",
    "y = df['pha']\n",
    "\n",
    "X_train, X_test, y_train, y_test, C_train, C_test = train_test_split(X, y, classCol, test_size=0.2, random_state=42)"
   ]
  },
  {
   "cell_type": "code",
   "execution_count": 6,
   "metadata": {},
   "outputs": [
    {
     "data": {
      "text/plain": [
       "array([[  4.96714153,  -1.38264301,   6.47688538, ...,  -2.34153375,\n",
       "         -2.34136957,  15.79212816],\n",
       "       [  7.67434729,  -4.69474386,   5.42560044, ...,  -4.65729754,\n",
       "          2.41962272, -19.13280245],\n",
       "       [-17.24917833,  -5.62287529, -10.1283112 , ...,  -9.08024076,\n",
       "        -14.12303701,  14.65648769],\n",
       "       ...,\n",
       "       [ -5.01156421,  -6.02751129,   3.36559513, ..., -15.93566072,\n",
       "        -10.94954361,  -4.52581385],\n",
       "       [  3.28019041,   9.16418866, -12.28727187, ...,  -1.80357532,\n",
       "         -6.90569901,  -4.95870709],\n",
       "       [ 14.29080638, -13.27926843,  -2.0788138 , ...,  -7.98021547,\n",
       "         10.24630795,  15.00234551]])"
      ]
     },
     "execution_count": 6,
     "metadata": {},
     "output_type": "execute_result"
    }
   ],
   "source": [
    "mu, sigma = 0, 10\n",
    "np.random.seed(42)\n",
    "# creating a noise with the same dimension as the dataset\n",
    "noise = np.random.normal(mu, sigma, X_train.shape)\n",
    "noise \n"
   ]
  },
  {
   "cell_type": "code",
   "execution_count": 9,
   "metadata": {},
   "outputs": [
    {
     "data": {
      "text/plain": [
       "(Index(['H', 'moid', 'e', 'i', 'ma', 'n', 'a'], dtype='object'),\n",
       " H       0.296144\n",
       " moid    0.214034\n",
       " e       0.157835\n",
       " i       0.042526\n",
       " ma      0.020235\n",
       " n       0.013764\n",
       " a       0.000427\n",
       " dtype: float64)"
      ]
     },
     "execution_count": 9,
     "metadata": {},
     "output_type": "execute_result"
    }
   ],
   "source": [
    "from sklearn.feature_selection import r_regression\n",
    "r_value = abs(r_regression(X_train, y_train))\n",
    "r_value = pd.Series(r_value)\n",
    "r_value.index = X_train.columns\n",
    "r_value.sort_values(ascending=False, inplace=True)\n",
    "r_value.index,r_value"
   ]
  },
  {
   "cell_type": "code",
   "execution_count": 33,
   "metadata": {},
   "outputs": [
    {
     "data": {
      "text/plain": [
       "['H', 'moid', 'e', 'i', 'ma']"
      ]
     },
     "execution_count": 33,
     "metadata": {},
     "output_type": "execute_result"
    }
   ],
   "source": [
    "k=2\n",
    "['H', 'moid', 'e', 'i', 'ma', 'n', 'a'][:(-1) * k if k > 0 else None]"
   ]
  },
  {
   "cell_type": "code",
   "execution_count": null,
   "metadata": {},
   "outputs": [],
   "source": []
  },
  {
   "cell_type": "code",
   "execution_count": 152,
   "metadata": {},
   "outputs": [],
   "source": [
    "#Train\n",
    "X_noisy_train = X_train + noise\n",
    "XC_train = pd.concat([X_train, C_train], axis=1)\n",
    "XC_noisy_train = pd.concat([X_noisy_train, C_train], axis=1)\n",
    "\n",
    "#Test\n",
    "XC_test = pd.concat([X_test, C_test], axis=1)"
   ]
  },
  {
   "cell_type": "code",
   "execution_count": 153,
   "metadata": {},
   "outputs": [
    {
     "data": {
      "text/plain": [
       "np.float64(0.9999069866326503)"
      ]
     },
     "execution_count": 153,
     "metadata": {},
     "output_type": "execute_result"
    }
   ],
   "source": [
    "clf = LGBMClassifier(verbose=-1)\n",
    "clf = tr.create_pipeline(X_train, y_train, clf, do_EBE=False)\n",
    "clf.fit(X_train, y_train)\n",
    "y_prob = clf.predict_proba(X_test)[:,-1]\n",
    "ev.roc_auc_score(y_test, y_prob)"
   ]
  },
  {
   "cell_type": "code",
   "execution_count": 154,
   "metadata": {},
   "outputs": [
    {
     "data": {
      "text/plain": [
       "np.float64(0.6330136451817868)"
      ]
     },
     "execution_count": 154,
     "metadata": {},
     "output_type": "execute_result"
    }
   ],
   "source": [
    "clf = LGBMClassifier(verbose=-1)\n",
    "clf = tr.create_pipeline(X_noisy_train, y_train, clf, do_EBE=False)\n",
    "clf.fit(X_noisy_train, y_train)\n",
    "y_prob = clf.predict_proba(X_test)[:,-1]\n",
    "ev.roc_auc_score(y_test, y_prob)"
   ]
  },
  {
   "cell_type": "code",
   "execution_count": 155,
   "metadata": {},
   "outputs": [
    {
     "data": {
      "text/plain": [
       "np.float64(0.999894906974553)"
      ]
     },
     "execution_count": 155,
     "metadata": {},
     "output_type": "execute_result"
    }
   ],
   "source": [
    "clf = LGBMClassifier(verbose=-1)\n",
    "clf = tr.create_pipeline(XC_train, y_train, clf, do_EBE=False)\n",
    "clf.fit(XC_train, y_train)\n",
    "y_prob = clf.predict_proba(XC_test)[:,-1]\n",
    "ev.roc_auc_score(y_test, y_prob)"
   ]
  },
  {
   "cell_type": "code",
   "execution_count": 156,
   "metadata": {},
   "outputs": [
    {
     "data": {
      "text/plain": [
       "np.float64(0.7840857752362177)"
      ]
     },
     "execution_count": 156,
     "metadata": {},
     "output_type": "execute_result"
    }
   ],
   "source": [
    "clf = LGBMClassifier(verbose=-1)\n",
    "clf = tr.create_pipeline(XC_noisy_train, y_train, clf, do_EBE=False)\n",
    "clf.fit(XC_noisy_train, y_train)\n",
    "y_prob = clf.predict_proba(XC_test)[:,-1]\n",
    "ev.roc_auc_score(y_test, y_prob)"
   ]
  }
 ],
 "metadata": {
  "kernelspec": {
   "display_name": "hereisjax",
   "language": "python",
   "name": "python3"
  },
  "language_info": {
   "codemirror_mode": {
    "name": "ipython",
    "version": 3
   },
   "file_extension": ".py",
   "mimetype": "text/x-python",
   "name": "python",
   "nbconvert_exporter": "python",
   "pygments_lexer": "ipython3",
   "version": "3.10.15"
  }
 },
 "nbformat": 4,
 "nbformat_minor": 2
}
